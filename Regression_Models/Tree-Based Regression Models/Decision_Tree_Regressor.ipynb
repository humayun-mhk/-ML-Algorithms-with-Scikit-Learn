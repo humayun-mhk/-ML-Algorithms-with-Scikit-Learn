{
  "nbformat": 4,
  "nbformat_minor": 0,
  "metadata": {
    "colab": {
      "provenance": []
    },
    "kernelspec": {
      "name": "python3",
      "display_name": "Python 3"
    },
    "language_info": {
      "name": "python"
    }
  },
  "cells": [
    {
      "cell_type": "markdown",
      "source": [
        "# **Decision Tree Regressor**"
      ],
      "metadata": {
        "id": "9VxJ9sbvjtJh"
      }
    },
    {
      "cell_type": "code",
      "execution_count": 1,
      "metadata": {
        "colab": {
          "base_uri": "https://localhost:8080/"
        },
        "id": "aii4T7AZjbZE",
        "outputId": "03be5053-d8f7-4547-878c-efbf53fbf3bf"
      },
      "outputs": [
        {
          "output_type": "stream",
          "name": "stdout",
          "text": [
            "Missing values after cleaning:\n",
            "CRIM       0\n",
            "ZN         0\n",
            "INDUS      0\n",
            "CHAS       0\n",
            "NOX        0\n",
            "RM         0\n",
            "AGE        0\n",
            "DIS        0\n",
            "RAD        0\n",
            "TAX        0\n",
            "PTRATIO    0\n",
            "LSTAT      0\n",
            "MEDV       0\n",
            "dtype: int64\n",
            "Model R-squared score on test set: 0.868782408318937\n",
            "Predictions on the test set: [29.6 23.3 14.9 13.4 43.1 44.8 26.6 20.1 26.6 18.2 14.3 17.4 10.8 46.\n",
            " 14.9 25.3 19.9 24.8 15.  24.1 30.1 17.4 13.8 24.3 15.   5.  19.4  5.\n",
            " 23.6 25.  12.6 19.8 25.  19.8 33.4 19.7 46.  12.5 33.2 13.1 34.9 23.\n",
            " 13.8 17.8 14.  45.4 18.8 24.8 24.3 19.5 21.7 30.8 23.9 22.6  6.3 26.7\n",
            "  8.4 21.  13.5 16.3 10.9 23.3 34.9 19.6 32.  28.7 12.  20.4 11.3 14.4\n",
            " 23.8 43.1 15.  21.  13.1 10.9 21.  19.5 19.3]\n",
            "Mean Absolute Error (MAE): $2,678.48\n"
          ]
        }
      ],
      "source": [
        "import pandas as pd\n",
        "from sklearn.model_selection import train_test_split\n",
        "from sklearn.tree import DecisionTreeRegressor\n",
        "\n",
        "# Load the dataset\n",
        "URL = \"https://cf-courses-data.s3.us.cloud-object-storage.appdomain.cloud/IBMDeveloperSkillsNetwork-ML0101EN-SkillsNetwork/labs/Module%203/data/real_estate_data.csv\"\n",
        "data = pd.read_csv(URL)\n",
        "\n",
        "# Create a DataFrame and handle missing values\n",
        "data_cleaned = data.dropna()\n",
        "\n",
        "# Check for missing values after cleaning\n",
        "print(\"Missing values after cleaning:\")\n",
        "print(data_cleaned.isna().sum())\n",
        "\n",
        "# Define features (X) and target (Y)\n",
        "X = data_cleaned.drop(columns=[\"MEDV\"])\n",
        "Y = data_cleaned[\"MEDV\"]\n",
        "\n",
        "# Split the dataset into training and testing sets (80% training, 20% testing)\n",
        "X_train, X_test, Y_train, Y_test = train_test_split(X, Y, test_size=0.2, random_state=1)\n",
        "\n",
        "# Initialize the DecisionTreeRegressor with 'absolute_error' criterion\n",
        "regression_tree = DecisionTreeRegressor(criterion=\"absolute_error\")\n",
        "\n",
        "# Train the model on the training data\n",
        "regression_tree.fit(X_train, Y_train)\n",
        "\n",
        "# Evaluate the model's performance on the test set\n",
        "score = regression_tree.score(X_test, Y_test)\n",
        "print(\"Model R-squared score on test set:\", score)\n",
        "\n",
        "# Make predictions on the test set\n",
        "predictions = regression_tree.predict(X_test)\n",
        "\n",
        "# Output the predictions\n",
        "print(\"Predictions on the test set:\", predictions)\n",
        "\n",
        "# Calculate and print the mean absolute error (MAE) in dollars\n",
        "mae = (predictions - Y_test).abs().mean() * 1000  # Convert MAE to dollars\n",
        "print(f\"Mean Absolute Error (MAE): ${mae:,.2f}\")\n"
      ]
    }
  ]
}