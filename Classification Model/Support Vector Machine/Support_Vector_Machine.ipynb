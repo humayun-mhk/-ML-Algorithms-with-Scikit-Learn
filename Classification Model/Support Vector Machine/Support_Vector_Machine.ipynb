{
  "nbformat": 4,
  "nbformat_minor": 0,
  "metadata": {
    "colab": {
      "provenance": []
    },
    "kernelspec": {
      "name": "python3",
      "display_name": "Python 3"
    },
    "language_info": {
      "name": "python"
    }
  },
  "cells": [
    {
      "cell_type": "markdown",
      "source": [
        "# **Support Vector Machine (SVM)** (Titanic Dataset )"
      ],
      "metadata": {
        "id": "X0Q1of1HWD2X"
      }
    },
    {
      "cell_type": "code",
      "execution_count": 15,
      "metadata": {
        "colab": {
          "base_uri": "https://localhost:8080/",
          "height": 688
        },
        "id": "uZItHfHQPUmo",
        "outputId": "8e2981e5-0cd4-4f72-f1f4-a890ea35fe39"
      },
      "outputs": [
        {
          "output_type": "stream",
          "name": "stdout",
          "text": [
            "Accuracy: 0.8252\n",
            "\n",
            "Classification Report:\n",
            "              precision    recall  f1-score   support\n",
            "\n",
            "           0       0.80      0.91      0.85        80\n",
            "           1       0.87      0.71      0.78        63\n",
            "\n",
            "    accuracy                           0.83       143\n",
            "   macro avg       0.83      0.81      0.82       143\n",
            "weighted avg       0.83      0.83      0.82       143\n",
            "\n",
            "\n",
            "Confusion Matrix:\n",
            "[[73  7]\n",
            " [18 45]]\n"
          ]
        },
        {
          "output_type": "display_data",
          "data": {
            "text/plain": [
              "<Figure size 600x400 with 1 Axes>"
            ],
            "image/png": "[encoded data removed]"
          },
          "metadata": {}
        }
      ],
      "source": [
        "# import libraries\n",
        "import pandas as pd\n",
        "import numpy as np\n",
        "import matplotlib.pyplot as plt\n",
        "from sklearn.model_selection import train_test_split\n",
        "from sklearn.svm import SVC\n",
        "from sklearn.preprocessing import LabelEncoder, StandardScaler\n",
        "from sklearn.metrics import accuracy_score, classification_report, confusion_matrix\n",
        "\n",
        "# Step 1: Load the dataset\n",
        "url = \"https://raw.githubusercontent.com/datasciencedojo/datasets/master/titanic.csv\"\n",
        "df = pd.read_csv(\"/content/Titanic_Data.csv\")\n",
        "\n",
        "# Step 2: Preprocess Data\n",
        "# Select relevant features and drop missing values\n",
        "df = df[['Survived', 'Pclass', 'Sex', 'Age', 'SibSp', 'Parch', 'Fare', 'Embarked']].dropna()\n",
        "\n",
        "# Encode categorical features\n",
        "df['Sex'] = LabelEncoder().fit_transform(df['Sex'])  # Male=1, Female=0\n",
        "df['Embarked'] = LabelEncoder().fit_transform(df['Embarked'])  # Encode C, Q, S as numbers\n",
        "\n",
        "# Separate features and target variable\n",
        "X = df.drop(columns=['Survived'])\n",
        "y = df['Survived']\n",
        "\n",
        "# Split into training and test sets\n",
        "X_train, X_test, y_train, y_test = train_test_split(X, y, test_size=0.2, random_state=42)\n",
        "\n",
        "# Standardize numerical features\n",
        "scaler = StandardScaler()\n",
        "X_train = scaler.fit_transform(X_train)\n",
        "X_test = scaler.transform(X_test)\n",
        "\n",
        "# Step 3: Train Support Vector Machine (SVM)\n",
        "svm_model = SVC(kernel='rbf', C=1.0, gamma='scale')  # Radial Basis Function (RBF) kernel\n",
        "svm_model.fit(X_train, y_train)\n",
        "\n",
        "# Step 4: Make Predictions\n",
        "y_pred = svm_model.predict(X_test)\n",
        "\n",
        "# Step 5: Evaluate the Model\n",
        "accuracy = accuracy_score(y_test, y_pred)\n",
        "print(f\"Accuracy: {accuracy:.4f}\")\n",
        "\n",
        "print(\"\\nClassification Report:\")\n",
        "print(classification_report(y_test, y_pred))\n",
        "\n",
        "print(\"\\nConfusion Matrix:\")\n",
        "print(confusion_matrix(y_test, y_pred))\n",
        "\n",
        "# Step 6: Visualization of Predictions (Optional)\n",
        "plt.figure(figsize=(6, 4))\n",
        "plt.bar(['Did Not Survive', 'Survived'], [sum(y_pred == 0), sum(y_pred == 1)], color=['red', 'green'])\n",
        "plt.xlabel(\"Survival Prediction\")\n",
        "plt.ylabel(\"Count\")\n",
        "plt.title(\"Titanic Survival Predictions using SVM\")\n",
        "plt.show()\n",
        "\n"
      ]
    }
  ]
}