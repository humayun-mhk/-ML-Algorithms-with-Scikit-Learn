{
  "nbformat": 4,
  "nbformat_minor": 0,
  "metadata": {
    "colab": {
      "provenance": []
    },
    "kernelspec": {
      "name": "python3",
      "display_name": "Python 3"
    },
    "language_info": {
      "name": "python"
    }
  },
  "cells": [
    {
      "cell_type": "markdown",
      "source": [
        "# **K-Nearest Neighbors (KNN) classifier** ( Loan Dataset )"
      ],
      "metadata": {
        "id": "pGRviECchcCD"
      }
    },
    {
      "cell_type": "code",
      "execution_count": 1,
      "metadata": {
        "colab": {
          "base_uri": "https://localhost:8080/"
        },
        "id": "S58FnjqlhacL",
        "outputId": "f93007a2-3c10-41d5-985d-5eeba424e86a"
      },
      "outputs": [
        {
          "output_type": "stream",
          "name": "stdout",
          "text": [
            "KNN Model Accuracy: 0.75\n",
            "\n",
            "Classification Report:\n",
            "               precision    recall  f1-score   support\n",
            "\n",
            "           0       0.77      0.40      0.52        43\n",
            "           1       0.74      0.94      0.83        80\n",
            "\n",
            "    accuracy                           0.75       123\n",
            "   macro avg       0.76      0.67      0.68       123\n",
            "weighted avg       0.75      0.75      0.72       123\n",
            "\n"
          ]
        }
      ],
      "source": [
        "import pandas as pd\n",
        "import numpy as np\n",
        "from sklearn.model_selection import train_test_split\n",
        "from sklearn.preprocessing import LabelEncoder, StandardScaler\n",
        "from sklearn.neighbors import KNeighborsClassifier\n",
        "from sklearn import metrics\n",
        "\n",
        "# Step 1: Load dataset\n",
        "df = pd.read_csv(\"/content/loan.csv\")\n",
        "\n",
        "# Step 2: Handle missing values (if any)\n",
        "df.fillna(df.median(numeric_only=True), inplace=True)  # Fill missing numerical values with median\n",
        "\n",
        "# Step 3: Encode categorical features into numerical format\n",
        "label_encoders = {}\n",
        "categorical_columns = [\"Gender\", \"Married\", \"Education\", \"Self_Employed\", \"Property_Area\", \"Loan_Status\", \"Dependents\"]\n",
        "for col in categorical_columns:\n",
        "    le = LabelEncoder()\n",
        "    df[col] = le.fit_transform(df[col].astype(str))  # Convert to string before encoding\n",
        "    label_encoders[col] = le  # Store encoder for inverse transformation if needed\n",
        "\n",
        "# Step 4: Define features (X) and target variable (Y)\n",
        "X = df.drop(columns=[\"Loan_ID\", \"Loan_Status\"])  # Features\n",
        "y = df[\"Loan_Status\"]  # Target (1 = Loan Approved, 0 = Loan Denied)\n",
        "\n",
        "# Step 5: Split dataset into training (80%) and testing (20%)\n",
        "X_train, X_test, y_train, y_test = train_test_split(X, y, test_size=0.2, random_state=42)\n",
        "\n",
        "# Step 6: Normalize the features for better performance\n",
        "scaler = StandardScaler()\n",
        "X_train = scaler.fit_transform(X_train)\n",
        "X_test = scaler.transform(X_test)\n",
        "\n",
        "# Step 7: Train K-Nearest Neighbors (KNN) Classifier\n",
        "k = 5  # Number of neighbors\n",
        "knn = KNeighborsClassifier(n_neighbors=k)\n",
        "knn.fit(X_train, y_train)\n",
        "\n",
        "# Step 8: Make predictions\n",
        "y_pred = knn.predict(X_test)\n",
        "\n",
        "# Step 9: Evaluate Model Performance\n",
        "accuracy = metrics.accuracy_score(y_test, y_pred)\n",
        "print(f\"KNN Model Accuracy: {accuracy:.2f}\")\n",
        "\n",
        "# Step 10: Display Classification Report\n",
        "print(\"\\nClassification Report:\\n\", metrics.classification_report(y_test, y_pred))\n"
      ]
    }
  ]
}