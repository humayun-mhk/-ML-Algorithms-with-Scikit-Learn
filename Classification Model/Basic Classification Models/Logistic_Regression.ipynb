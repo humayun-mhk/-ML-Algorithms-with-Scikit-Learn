{
  "nbformat": 4,
  "nbformat_minor": 0,
  "metadata": {
    "colab": {
      "provenance": []
    },
    "kernelspec": {
      "name": "python3",
      "display_name": "Python 3"
    },
    "language_info": {
      "name": "python"
    }
  },
  "cells": [
    {
      "cell_type": "markdown",
      "source": [
        "# **Logistic Regression** ( Loan Dataset )"
      ],
      "metadata": {
        "id": "EF5SssziXRFf"
      }
    },
    {
      "cell_type": "code",
      "source": [
        "# Import necessary libraries\n",
        "import pandas as pd\n",
        "import numpy as np\n",
        "from sklearn.model_selection import train_test_split\n",
        "from sklearn.preprocessing import StandardScaler\n",
        "from sklearn.linear_model import LogisticRegression\n",
        "from sklearn.metrics import accuracy_score, classification_report, confusion_matrix\n",
        "\n",
        "# Load dataset\n",
        "df = pd.read_csv(\"/content/bankloan.csv\")\n",
        "\n",
        "# Drop unnecessary columns\n",
        "df = df.drop(columns=['ID', 'ZIP.Code'])  # These are not useful for prediction\n",
        "\n",
        "# Define features and target variable\n",
        "X = df.drop(columns=['Personal.Loan'])  # Features\n",
        "y = df['Personal.Loan']  # Target variable\n",
        "\n",
        "# Split data into training and test sets (80-20 split)\n",
        "X_train, X_test, y_train, y_test = train_test_split(X, y, test_size=0.2, random_state=42)\n",
        "\n",
        "# Standardize numerical features\n",
        "scaler = StandardScaler()\n",
        "X_train = scaler.fit_transform(X_train)\n",
        "X_test = scaler.transform(X_test)\n",
        "\n",
        "# Train the Logistic Regression model\n",
        "model = LogisticRegression()\n",
        "model.fit(X_train, y_train)\n",
        "\n",
        "# Make predictions\n",
        "y_pred = model.predict(X_test)\n",
        "\n",
        "# Evaluate the model\n",
        "accuracy = accuracy_score(y_test, y_pred)\n",
        "print(\"Accuracy:\", accuracy)\n",
        "print(\"\\nClassification Report:\\n\", classification_report(y_test, y_pred))\n",
        "print(\"\\nConfusion Matrix:\\n\", confusion_matrix(y_test, y_pred))\n"
      ],
      "metadata": {
        "colab": {
          "base_uri": "https://localhost:8080/"
        },
        "id": "Gjuc7dbUXQgz",
        "outputId": "0121e497-64ed-47cc-f163-c04fed80cc95"
      },
      "execution_count": 3,
      "outputs": [
        {
          "output_type": "stream",
          "name": "stdout",
          "text": [
            "Accuracy: 0.955\n",
            "\n",
            "Classification Report:\n",
            "               precision    recall  f1-score   support\n",
            "\n",
            "           0       0.96      0.99      0.98       895\n",
            "           1       0.86      0.69      0.76       105\n",
            "\n",
            "    accuracy                           0.95      1000\n",
            "   macro avg       0.91      0.84      0.87      1000\n",
            "weighted avg       0.95      0.95      0.95      1000\n",
            "\n",
            "\n",
            "Confusion Matrix:\n",
            " [[883  12]\n",
            " [ 33  72]]\n"
          ]
        }
      ]
    },
    {
      "cell_type": "code",
      "execution_count": 2,
      "metadata": {
        "id": "GaTbAw_yW64Z"
      },
      "outputs": [],
      "source": []
    }
  ]
}